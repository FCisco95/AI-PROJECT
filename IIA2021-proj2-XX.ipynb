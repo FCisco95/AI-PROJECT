{
 "cells": [
  {
   "cell_type": "markdown",
   "metadata": {
    "colab_type": "text",
    "id": "LekFEsVbua_R"
   },
   "source": [
    "#  Jogo dos Rastros\n",
    "## Projeto nº 2\n",
    "### Introdução à Inteligência Artificial edição 2020/21\n",
    "\n",
    "\n",
    "## Grupo: XX\n",
    "\n",
    "### Elementos do Grupo\n",
    "\n",
    "Nome: João Cotralha\n",
    "\n",
    "Número: 51090\n",
    "\n",
    "Nome: João Vieira\n",
    "\n",
    "Número: 45677\n",
    "\n",
    "Nome: Miguel Cruz\n",
    "\n",
    "Número: 43266"
   ]
  },
  {
   "cell_type": "code",
   "execution_count": 45,
   "metadata": {
    "scrolled": true
   },
   "outputs": [],
   "source": [
    "from rastros import *\n",
    "import time    \n",
    " \n",
    "# Corre n jogos entre player1 e player2    \n",
    "def teste(player1, player2, n):\n",
    "    score_p1 = 0\n",
    "    score_p2 = 0\n",
    "    i = 0\n",
    "    start = time.time()\n",
    "    print(\"------INICIO DE TESTE------\")\n",
    "    ##########################################\n",
    "    for x in range(n//2):\n",
    "        jogo = jogaRastros11(player1, player2)\n",
    "        if jogo[1] > 0:\n",
    "            score_p1 += 1\n",
    "        else:\n",
    "            score_p2 += 1\n",
    "        i+=1\n",
    "        print(\"Status: \", (i/n)*100, \"%\")\n",
    "        jogo = jogaRastros11(player2, player1)\n",
    "        if jogo[1] > 0:\n",
    "            score_p2 += 1\n",
    "        else:\n",
    "            score_p1 += 1\n",
    "        i+=1\n",
    "        print(\"Status: \", (i/n)*100, \"%\")\n",
    "    print(\"----------RESULTS----------\")\n",
    "    print(\"Time: \", time.strftime(\"%H:%M:%S\",time.gmtime(time.time()-start)))\n",
    "    print(\"Games processed: \", n)\n",
    "    print(\"Score \",player1.nome,\": \",score_p1)\n",
    "    print(\"Score \",player2.nome,\": \",score_p2)\n",
    "    print(player1.nome,\" winrate: \", (score_p1/n)*100, \"%\")\n",
    "\n",
    "# Representa o tabuleiro num grafo\n",
    "def graph(estado) :\n",
    "    graph = {}\n",
    "    \n",
    "    for i in range(1,9):\n",
    "        for j in range(1,9):\n",
    "            graph[(i,j)] = dict.fromkeys([p for p in [(i+a, j+b) for a in [-1,0,1] for b in [-1,0,1]]\n",
    "                           if p not in estado.blacks and p != (i,j) and p in estado.fullboard], 1)\n",
    "            \n",
    "    return graph   \n",
    "\n",
    "# Encontra o caminho mais curto entre dois pontos de um grafo\n",
    "def bfs_shortest_path(graph, start, goal):\n",
    "    explored = []\n",
    "    queue = [[start]]\n",
    " \n",
    "    while queue:\n",
    "        path = queue.pop(0)\n",
    "        point = path[-1]\n",
    "        if point not in explored:\n",
    "            adjacent = graph[point]\n",
    "            \n",
    "            for adj in adjacent:\n",
    "                new_path = list(path)\n",
    "                new_path.append(adj)\n",
    "                queue.append(new_path)\n",
    "      \n",
    "                if adj == goal:\n",
    "                    return new_path\n",
    " \n",
    "            explored.append(point)\n",
    " \n",
    "    return []\n",
    "\n",
    "# Funcao de avaliacao heuristica\n",
    "def fun_aval_XX(estado, jogador):\n",
    "    if estado.terminou == 1:\n",
    "        return 999 if jogador == \"S\" else -999\n",
    "    elif estado.terminou == -1:\n",
    "        return 999 if jogador == \"N\" else -999     \n",
    "    else:\n",
    "        obj = (8, 1) if jogador == \"S\" else (1, 8)\n",
    "        res = 0\n",
    "        for p in bfs_shortest_path(graph(estado), estado.white, obj):\n",
    "            res += 1\n",
    "        return res + len(estado.blacks)"
   ]
  },
  {
   "cell_type": "markdown",
   "metadata": {},
   "source": [
    "### Explicação da função e sua lógica\n",
    "\n",
    "A nossa função de avaliação de heurísticas consiste em várias fases. Para cada estado ponderado pelo algoritmo __alphabeta__ (cada nó da árvore criada por este), são aplicadas as seguintes regras:\n",
    "\n",
    "Primeiro, verifica se o estado atual é de vitória ou derrota para o jogador atual quer seja por atingir um dos dois objetivos, ou por bloquei. Caso seja vitória retorna o valor mais alto possível nesta funço, e caso contrário retorna o valor mínimo.\n",
    "\n",
    "Se o estado atual não é término, a função de avaliação vai criar um __grafo__ representativo do estado, ou seja, o grafo vai representar o tabuleiro que por sua vez é representado pela estrutura de dados _estado_.\n",
    "\n",
    "O grafo no fundo é um dicionário, em que as chaves são todos os pontos do tabuleiro que não estejam indisponíveis (casas pretas). O valor dessas chaves será outro dicionário, em que as chaves são as casas disponíveis (não pretas) adjacentes, e o valor dessa chave será 1, o número de jogadas para ir de um ponto a outro ponto adjacente.\n",
    "\n",
    "Com esta representação do estado podemos agora correr um algoritmo de __breadth first search__, que irá pegar no ponto inicial, no nosso caso o ponto da peça branca no estado, e irá percorrer todos os seus pontos adjacentes e consequentemente os pontos adjacentes desses mesmos até chegar ao ponto defenido como objetivo, que no nosso caso ou é (8,1) para o jogador _S_, ou (1,8) caso contrário. Então, o nosso algoritmo de breadth first search cria uma árvore em que cada ramo é um caminho possível (ou não) desde a casa da peça branca até ao objetivo, e retorna o caminho mais curto, ou seja, o caminho que requer menos jogadas para alcançar.\n",
    "\n",
    "Temos então o custo de levar a peça branca ao objetivo para este estado. A este valor, somamos o custo de chegar a este estado a partir do estado inicial (por outras palavras, o número de peças pretas no estado). O resultado desta soma é então, a maneira como a função avalia a heurística de um estado não término.\n",
    "\n",
    "Concluímos então a implementação de um algoritmo _best-first search __A*___  ou \"__A-star search__\". \n"
   ]
  },
  {
   "cell_type": "markdown",
   "metadata": {},
   "source": [
    "### Demonstração\n",
    "\n",
    "Para mostrar a sua eficiência em relação ao jogo, podemos começar por realizar 4 jogos contra o jogador Basilio, e ver o seu resultado. Utilizamos a função auxiliar __teste()__ que faz n jogos entre jogador1 e jogador2. A primeira jogada é alternada entre ambos jogadores. \n",
    "\n",
    "Definimos primeiro o jogador alfabeta que irá utilizar esta função e de seguida analisamos o resultado do teste:"
   ]
  },
  {
   "cell_type": "code",
   "execution_count": 44,
   "metadata": {
    "scrolled": true
   },
   "outputs": [
    {
     "name": "stdout",
     "output_type": "stream",
     "text": [
      "------INICIO DE TESTE------\n",
      "Status:  25.0 %\n",
      "Status:  50.0 %\n",
      "Status:  75.0 %\n",
      "Status:  100.0 %\n",
      "----------RESULTS----------\n",
      "Time:  00:00:24\n",
      "Games processed:  4\n",
      "Score  Babujo :  4\n",
      "Score  Basilio :  0\n",
      "Babujo  winrate:  100.0 %\n"
     ]
    }
   ],
   "source": [
    "#Definicao do jogador\n",
    "babujo = Jogador(\"Babujo\",\n",
    "                  lambda game, state:\n",
    "                  alphabeta_cutoff_search_new(state,game,5,eval_fn=fun_aval_XX))\n",
    "\n",
    "#Realizacao dos 4 jogos\n",
    "teste(babujo, basilio, 4)"
   ]
  },
  {
   "cell_type": "markdown",
   "metadata": {},
   "source": [
    "Podemos observar a lógica da função ao analisar uma estratégia de abertura de jogo frequentemente adotada por esta:\n",
    "\n",
    "<img src=\"open2.png\" alt=\"Drawing\"/>\n",
    "\n",
    "\n",
    "Neste caso, o jogador alfabeta fez a primeira jogada.\n",
    "Como podemos observar, se escolhermos adotar a estratégia imediatamente intuitiva de jogar para a casa mais perto do nosso objetivo, o jogador alfabeta responde de maneira a maximizar a nossa distância do objetivo bloqueando-o com peças pretas. Se não alterarmos de estratégia, a casa objetivo ficará bloqueada.\n",
    "\n",
    "Após isto, as próximas jogadas do jogador alfabeta vão pouco a pouco preenchendo o tabuleiro de forma a que não sofra bloqueio total do adversário, até chegar ao seu objetivo ou bloquear o adversário.\n",
    "\n",
    "Podemos observar este caso exemplificado num jogo contra o jogador basilio, em que o jogador alfabeta teve a primeira jogada:\n",
    "\n",
    "\n",
    "<img src=\"game2.png\" alt=\"Drawing\"/>"
   ]
  },
  {
   "cell_type": "markdown",
   "metadata": {},
   "source": [
    "Apesar de lenta, podemos ver que esta estratégia adotada pela função é eficiente.\n",
    "\n",
    "Para a realização de mais testes contra o basilio de, por exemplo 100 jogos, está em baixo o comando:"
   ]
  },
  {
   "cell_type": "code",
   "execution_count": null,
   "metadata": {},
   "outputs": [],
   "source": [
    "# ATENCAO: pode levar algum tempo \n",
    "# por exemplo, 100 jogos demoram 10 minutos em um i5-6400\n",
    "# os jogadores ou o número de jogos podem ser alterados\n",
    "teste(babujo, basilio, 100)"
   ]
  }
 ],
 "metadata": {
  "colab": {
   "collapsed_sections": [],
   "name": "Untitled0.ipynb",
   "provenance": [],
   "version": "0.3.2"
  },
  "kernelspec": {
   "display_name": "Python 3",
   "language": "python",
   "name": "python3"
  },
  "language_info": {
   "codemirror_mode": {
    "name": "ipython",
    "version": 3
   },
   "file_extension": ".py",
   "mimetype": "text/x-python",
   "name": "python",
   "nbconvert_exporter": "python",
   "pygments_lexer": "ipython3",
   "version": "3.8.3"
  }
 },
 "nbformat": 4,
 "nbformat_minor": 2
}
