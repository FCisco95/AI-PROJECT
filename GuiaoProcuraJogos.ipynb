{
 "cells": [
  {
   "cell_type": "markdown",
   "metadata": {},
   "source": [
    "# IIA 2020/2021 - Procura com Adversário\n",
    "#### (12 a 16 de Outubro)\n",
    "\n",
    "### Conteúdos\n",
    "* Representação de jogos\n",
    "    * classe Game\n",
    "* O exemplo do jogo do galo\n",
    "* Minimax (para árvore completa)\n",
    "* Alfabeta (para árvore completa)\n",
    "* Vamos jogar alguns jogos\n",
    "* Alfabeta com profundidade limitada\n",
    "\n",
    "\n",
    "### Introdução\n",
    "\n",
    "Nesta aula vamos dar exemplos do uso dos **algoritmos minimax** e a sua variante **alfabeta/minimax para árvores completas** para o jogo do Galo que também é modelizado.\n",
    "\n",
    "Relembrando que para caracterizar um jogo temos que identificar:\n",
    "\n",
    "    O estado inicial do jogo;\n",
    "    Quais as acções admissíveis em cada estado do jogo\n",
    "        recebe: um estado do jogo\n",
    "        devolve: uma lista de ações possíveis\n",
    "    A função de transição\n",
    "        recebe: um estado do jogo; uma jogada possível\n",
    "        devolve: o estado resultante da execução dessa jogada;\n",
    "    O teste de terminação\n",
    "        recebe: um estado do jogo\n",
    "        devolve: verdadeiro (se é o fim do jogo) ou falso\n",
    "    A função de recompensa/utilidade\n",
    "        recebe: um estado final do jogo\n",
    "        devolve: a utilidade (para o jogador MAX)"
   ]
  },
  {
   "cell_type": "markdown",
   "metadata": {},
   "source": [
    "#### Recursos necessários:\n",
    "Para executar as experiências que se seguem, copie os seguintes ficheiros para a sua directoria de trabalho:\n",
    "* jogos.py - módulo principal\n",
    "* utils.py - módulo auxiliar"
   ]
  },
  {
   "cell_type": "markdown",
   "metadata": {},
   "source": [
    "Começamos por importar o módulo principal:"
   ]
  },
  {
   "cell_type": "code",
   "execution_count": 1,
   "metadata": {},
   "outputs": [],
   "source": [
    "from jogos import *"
   ]
  },
  {
   "cell_type": "markdown",
   "metadata": {},
   "source": [
    "##  O Jogo do Galo\n",
    "\n",
    "![figura](tictactoe.gif)\n",
    "\n",
    "O estado do Jogo do Galo, vai ser modelizado:\n",
    "\n",
    "Os jogadores são representados pelas strings 'X' (jogador MAX) e 'O' (jogador MIN).\n",
    "\n",
    "Cada jogada é a coordenada (linha,coluna) que o jogador ocupa. Assumam que a primeira linha é a de cima e que a primeira coluna é a da esquerda.\n",
    "\n",
    "O tabuleiro é um dicionário que guarda a informação apenas sobre as posições ocupadas.\n",
    "\n",
    "Teremos assim que ter:\n",
    "\n",
    "    A indicação de quem joga a seguir. Não era absolutamento necessário porque com o número de casas já jogadas poderíamos determiná-lo: um número par de casas jogadas, indica que é o 'X' a jogar e 'O' quando um número ímpar.\n",
    "   \n",
    "    A última casa que foi jogada. Este elemento vai ser importante para determinarmos se alguém ganhou. Para saber se alguém ganhou, basta verificar se a última jogada preencheu uma linha, coluna ou diagonal e não vale a pena testar as outras linhas, colunas e diagonais que não envolvam a casa jogada. Se não registássemos a útima jogada teríamos de testar todas as linhas, colunas e diagonais para ver se o jogo terminou, e assim poupa-se cálculos."
   ]
  },
  {
   "cell_type": "markdown",
   "metadata": {},
   "source": [
    "Vamos usar um **namedtuple** para representar o estado com os três atributos. Mas precisamos de associar alguns métodos a essa classe, por isso criamos uma sua subclasse e vamos associar-lhe esses métodos: \n",
    "\n",
    "    compute_utility(): o que calcula se algum dos jogadores ganhou (1 se X ganhou, -1 se O ganhou e 0 nos outros casos). Esta função faz uso de k_in_row() e other().\n",
    "    \n",
    "    k_in_row(): queremos saber se a partir da última jogada há K peças iguais à última em linha, coluna ou diagonal, numa certa direcção, em ambos os sentidos.\n",
    "    \n",
    "    O método ***k_pieces()*** verifica a existência de k símbolos iguais, seguidos, numa das quatro direcções, a partir de uma jogada de um determinado jogador (horizontal - (0,1), vertical - (1,0), e as duas diagonais - (1,1) e (1,-1).\n",
    "    \n",
    "    next_move(): Devolve um novo estado do jogo que resulta de uma jogada para uma determinada casa do tabuleiro.\n",
    "    \n",
    "    used_cells(): devolve as casas do tabuleiro onde foram jogadas as peças, até ao momento.\n",
    "    \n",
    "    other(): devolve o outro jogador dado player: X se O ou O se X\n",
    "    \n",
    "    display(): faz o display do tabuleiro que tem h linhas e v colunas."
   ]
  },
  {
   "cell_type": "code",
   "execution_count": 2,
   "metadata": {},
   "outputs": [],
   "source": [
    "stateTicTacToe = namedtuple('stateTicTacToe', 'to_move, board, last_move')\n",
    "\n",
    "class EstadoTicTacToe(stateTicTacToe):\n",
    "    \n",
    "    def next_move(self,move):\n",
    "        board = self.board.copy() # Sim, temos de duplicar o board.\n",
    "        board[move] = self.to_move ## adiciona jogada ao dicionário (board)  \n",
    "        return EstadoTicTacToe(to_move=self.other(self.to_move),\n",
    "                         board=board,last_move=move)\n",
    "    \n",
    "    def used_cells(self):\n",
    "        return self.board.keys()\n",
    "    \n",
    "    # devíamos dar-lhe outro nome!!!!!!!\n",
    "    # confuso, confuso face a utility da classe Game\n",
    "    def k_pieces(self,k):\n",
    "        \"If 'X' wins with this move, return 1; if 'O' wins return -1; else return 0.\"\n",
    "        (play,board,move)=self\n",
    "        if move==\"None\":\n",
    "            return 0\n",
    "        player = self.other(play) # the one thar has played, not the one that will play\n",
    "        if (self.k_in_row(board, move, player, (0, 1),k) or\n",
    "                self.k_in_row(board, move, player, (1, 0),k) or\n",
    "                self.k_in_row(board, move, player, (1, -1),k) or\n",
    "                self.k_in_row(board, move, player, (1, 1),k)):\n",
    "            return 1 if player == 'X' else -1\n",
    "        else:\n",
    "            return 0\n",
    "    \n",
    "    def k_in_row(self, board, move, player,delta_x_y,k):\n",
    "        \"Return true if there is a line with k cells through move on board for player.\"\n",
    "        (delta_x, delta_y) = delta_x_y\n",
    "        x, y = move\n",
    "        n = 0  # n is number of moves in row\n",
    "        while board.get((x, y)) == player:\n",
    "            n += 1\n",
    "            x, y = x + delta_x, y + delta_y\n",
    "        x, y = move\n",
    "        while board.get((x, y)) == player:\n",
    "            n += 1\n",
    "            x, y = x - delta_x, y - delta_y\n",
    "        n -= 1  # Because we counted move itself twice\n",
    "        return n >= k\n",
    "    \n",
    "    def other(self,player):\n",
    "        return 'X' if player == 'O' else 'O'\n",
    "    \n",
    "    def display(self,h,v):\n",
    "        for x in range(1, h + 1):\n",
    "            for y in range(1, v + 1):\n",
    "                print(self.board.get((x, y), '.'), end=' ')\n",
    "            print()\n"
   ]
  },
  {
   "cell_type": "markdown",
   "metadata": {},
   "source": [
    "Criemos um estado correspondente ao tabuleiro vazio, em que inicia o jogador 'X'."
   ]
  },
  {
   "cell_type": "code",
   "execution_count": 3,
   "metadata": {},
   "outputs": [],
   "source": [
    "estado_inicial = EstadoTicTacToe(to_move = 'X', board = {}, last_move='None')"
   ]
  },
  {
   "cell_type": "markdown",
   "metadata": {},
   "source": [
    "Podemos aceder aos elementos do tuplo do modo convencional"
   ]
  },
  {
   "cell_type": "code",
   "execution_count": 4,
   "metadata": {},
   "outputs": [
    {
     "data": {
      "text/plain": [
       "'X'"
      ]
     },
     "execution_count": 4,
     "metadata": {},
     "output_type": "execute_result"
    }
   ],
   "source": [
    "estado_inicial[0]"
   ]
  },
  {
   "cell_type": "code",
   "execution_count": 5,
   "metadata": {},
   "outputs": [
    {
     "data": {
      "text/plain": [
       "[]"
      ]
     },
     "execution_count": 5,
     "metadata": {},
     "output_type": "execute_result"
    }
   ],
   "source": [
    "list(estado_inicial.used_cells())"
   ]
  },
  {
   "cell_type": "markdown",
   "metadata": {},
   "source": [
    "Mas para isso não criaríamos um nametuple mas um tuplo standard. Podemos também chamar os elementos pelo nome:"
   ]
  },
  {
   "cell_type": "code",
   "execution_count": 6,
   "metadata": {},
   "outputs": [
    {
     "data": {
      "text/plain": [
       "'None'"
      ]
     },
     "execution_count": 6,
     "metadata": {},
     "output_type": "execute_result"
    }
   ],
   "source": [
    "estado_inicial.last_move"
   ]
  },
  {
   "cell_type": "markdown",
   "metadata": {},
   "source": [
    "Podemos imprimir o namedtuple"
   ]
  },
  {
   "cell_type": "code",
   "execution_count": 7,
   "metadata": {},
   "outputs": [
    {
     "name": "stdout",
     "output_type": "stream",
     "text": [
      "EstadoTicTacToe(to_move='X', board={}, last_move='None')\n"
     ]
    }
   ],
   "source": [
    "print(estado_inicial)"
   ]
  },
  {
   "cell_type": "markdown",
   "metadata": {},
   "source": [
    "ou imprimir cada um dos elementos, pelo nome que demos:"
   ]
  },
  {
   "cell_type": "code",
   "execution_count": 8,
   "metadata": {},
   "outputs": [
    {
     "name": "stdout",
     "output_type": "stream",
     "text": [
      "Próximo jogador: X\n",
      "Tabuleiro: {}\n",
      "Última jogada: None\n"
     ]
    }
   ],
   "source": [
    "print(\"Próximo jogador:\",estado_inicial.to_move)\n",
    "print(\"Tabuleiro:\",estado_inicial.board)\n",
    "print(\"Última jogada:\",estado_inicial.last_move)"
   ]
  },
  {
   "cell_type": "markdown",
   "metadata": {},
   "source": [
    "Por exemplo, para o momento do jogo:\n",
    "\n",
    "``` \n",
    " . . X \n",
    " . O . \n",
    " . . .\n",
    "```\n",
    "\n",
    "o tuplo correspondente teria os seguintes valores nas suas componentes:"
   ]
  },
  {
   "cell_type": "code",
   "execution_count": 9,
   "metadata": {},
   "outputs": [
    {
     "name": "stdout",
     "output_type": "stream",
     "text": [
      "EstadoTicTacToe(to_move='X', board={(1, 3): 'X', (2, 2): 'O'}, last_move=(2, 2))\n"
     ]
    }
   ],
   "source": [
    "estado=EstadoTicTacToe(to_move ='X',board = {(1,3) : 'X', (2,2) : 'O'},last_move = (2,2))\n",
    "print(estado)"
   ]
  },
  {
   "cell_type": "markdown",
   "metadata": {},
   "source": [
    "Também podemos fazer o seu display:"
   ]
  },
  {
   "cell_type": "code",
   "execution_count": 10,
   "metadata": {},
   "outputs": [
    {
     "name": "stdout",
     "output_type": "stream",
     "text": [
      ". . X \n",
      ". O . \n",
      ". . . \n"
     ]
    }
   ],
   "source": [
    "estado.display(3,3)"
   ]
  },
  {
   "cell_type": "markdown",
   "metadata": {},
   "source": [
    "### A classe Game\n",
    "\n",
    "Esta classe funciona como uma classe abstracta. Para definir um jogo concreto é necessário criar uma sua sub-classe e definir, pelo menos, os seguintes métodos:\n",
    "\n",
    "***actions(self, state)*** : Dado um estado do jogo, este método deverá gerar todas as jogadas possíveis a partir desse estado.\n",
    "\n",
    "***result(self, state, move)*** : Dados um estado do jogo e uma jogada válida, este método deverá retornar o estado do jogo que resulta de executar a jogada no estado dado.\n",
    "\n",
    "***utility(self, state, player)*** : Dado um estado de jogo que seja final, e um jogador, este método deverá retornar a utilidade do estado, para o jogador. Notem que o mesmo tabuleiro terá eventualmente diferentes utilidades para os jogadores 'X' e 'O'.\n",
    "\n",
    "***terminal_test(self, state)*** : Dado um estado do jogo, este método deverá retornar True, se o estado for final, e False, caso contrário."
   ]
  },
  {
   "cell_type": "code",
   "execution_count": 11,
   "metadata": {},
   "outputs": [],
   "source": [
    "class TicTacToe(Game):\n",
    "    \"\"\"Play TicTacToe on an h x v board (h is the height of the board, and v the width), \n",
    "    with Max (first player) playing 'X'. k is the number of continuous marks to win a game.\n",
    "    A state has the player to move, a cached utility, a list of moves in\n",
    "    the form of a list of (x, y) positions (coordinates of a move), and a board, in the form of\n",
    "    a dict of {(x, y): Player} entries, where Player is 'X' or 'O'.\"\"\"\n",
    "\n",
    "    def __init__(self, h=3, v=3, k=3):\n",
    "        \"The board is empty, it is 'X' that begins, and no last move\"\n",
    "        self.h = h\n",
    "        self.v = v\n",
    "        self.k = k\n",
    "        #moves = [(x, y) for x in range(1, h + 1)\n",
    "         #        for y in range(1, v + 1)]\n",
    "        self.initial = EstadoTicTacToe(to_move='X',board={},last_move=\"None\")\n",
    "\n",
    "    def actions(self, state):\n",
    "        \"Legal moves are any square not yet taken.\"\n",
    "        return list([(x, y) for x in range(1, self.h + 1)\n",
    "                 for y in range(1, self.v + 1)] - state.used_cells())\n",
    "\n",
    "    def result(self, state, move):\n",
    "        \"Dado state executa jogada move\"\n",
    "        return state.next_move(move)\n",
    "    \n",
    "    \n",
    "    def utility(self, state, player):\n",
    "        \"Return the value to player; 1 for win, -1 for loss, 0 otherwise.\"\n",
    "        \"If the player is X and .utility == 1 then return .utility\"\n",
    "        \"Otherwise return the symmetric. Note that the symmetric of 0 is 0\"\n",
    "        \"Note that player might be different from the player within the state that has just virtually played\"\n",
    "        aux = state.k_pieces(self.k)\n",
    "        return aux if player == 'X' else -aux\n",
    "\n",
    "    def terminal_test(self, state):\n",
    "        \"A state is terminal if someone won or there are no empty squares.\"\n",
    "        \"It assumes that the calculus if there is a winner is computed first and saved in .utility, thus it uses the value of .utility.\"\n",
    "        return state.k_pieces(self.k) != 0 or len(self.actions(state)) == 0\n",
    "\n",
    "    def display(self, state):\n",
    "        print(\"Tabuleiro actual:\")\n",
    "        state.display(self.h,self.v)\n",
    "        fim = self.terminal_test(state)\n",
    "        if  fim:\n",
    "            print(\"FIM do Jogo\")\n",
    "#            out = self.compute_utility(state)\n",
    "#            if out == 1:\n",
    "#                print('Ganhou X')\n",
    "#            elif out == -1:\n",
    "#                print('Ganhou O')\n",
    "#            else:\n",
    "#                print('Empate')\n",
    "        else :\n",
    "            print(\"Próximo jogador:{}\\n\".format(state.to_move))\n",
    "    "
   ]
  },
  {
   "cell_type": "markdown",
   "metadata": {},
   "source": [
    "Notar no código acima:\n",
    "\n",
    "O construtor __init__(). No qual é definido o atributo initial, que representa o estado inicial do jogo. A definição deste atributo é obrigatória. Aqui é possível definir o tamanho do tabuleiro (altura x largura) e quantos simbolos continuos é necessário para ganhar o jogo. Por exemplo, podemos ter um tabuleiro de 4x6 (h=4, v=6) e o jogo termina quando um jogador conseguir fazer 3 (k=3) em linha.\n",
    "\n",
    "Os métodos ***actions()***, ***result()*** e ***utility()***, todos de definição obrigatória.\n",
    "\n",
    "O método ***utility()*** devolve a utilidade de um estado do ponto de vista de um dos jogadores. Se ele ganhar +1, se perder -1, de resto 0. Qualquer estado tem uma ***utility()*** e, neste caso, não se distingue um empate de uma situação em que o jogo não chegou ainda ao fim, todos serão avaliados com utilidade 0.\n",
    "\n",
    "O método ***terminal_test()*** sucede quando o jogo acaba: se houve algum jogador que ganhou ou se não há jogadas para fazer (empate).\n",
    "\n",
    "O método ***display()*** que mostra o estado do jogo em modo texto."
   ]
  },
  {
   "cell_type": "markdown",
   "metadata": {},
   "source": [
    "Podemos então criar um jogo e apresentá-lo..."
   ]
  },
  {
   "cell_type": "code",
   "execution_count": 12,
   "metadata": {},
   "outputs": [
    {
     "name": "stdout",
     "output_type": "stream",
     "text": [
      "Tabuleiro actual:\n",
      ". . . \n",
      ". . . \n",
      ". . . \n",
      "Próximo jogador:X\n",
      "\n"
     ]
    }
   ],
   "source": [
    "j=TicTacToe()\n",
    "j.display(j.initial)"
   ]
  },
  {
   "cell_type": "markdown",
   "metadata": {},
   "source": [
    "Podemos ver quais as acções possíveis a partir do estado inicial do jogo:"
   ]
  },
  {
   "cell_type": "code",
   "execution_count": 13,
   "metadata": {},
   "outputs": [
    {
     "name": "stdout",
     "output_type": "stream",
     "text": [
      "Tabuleiro actual:\n",
      ". . . \n",
      ". . . \n",
      ". . . \n",
      "Próximo jogador:X\n",
      "\n",
      "X pode jogar em [(3, 2), (3, 1), (1, 1), (2, 3), (3, 3), (1, 3), (1, 2), (2, 2), (2, 1)]\n"
     ]
    }
   ],
   "source": [
    "j.display(j.initial)\n",
    "print(j.initial.to_move,'pode jogar em',j.actions(j.initial))"
   ]
  },
  {
   "cell_type": "markdown",
   "metadata": {},
   "source": [
    "Se quisermos escolher uma acção ao acaso podemos fazer o seguinte:"
   ]
  },
  {
   "cell_type": "code",
   "execution_count": 14,
   "metadata": {},
   "outputs": [
    {
     "name": "stdout",
     "output_type": "stream",
     "text": [
      "(1, 1)\n"
     ]
    }
   ],
   "source": [
    "jog=random.choice(j.actions(j.initial))\n",
    "print(jog)"
   ]
  },
  {
   "cell_type": "markdown",
   "metadata": {},
   "source": [
    "Se 'X' fizer essa jogada:"
   ]
  },
  {
   "cell_type": "code",
   "execution_count": 15,
   "metadata": {},
   "outputs": [
    {
     "name": "stdout",
     "output_type": "stream",
     "text": [
      "Depois de X jogar para (1, 1)\n",
      "Tabuleiro actual:\n",
      "X . . \n",
      ". . . \n",
      ". . . \n",
      "Próximo jogador:O\n",
      "\n"
     ]
    }
   ],
   "source": [
    "print('Depois de X jogar para', jog)\n",
    "est1=j.result(j.initial,jog)\n",
    "j.display(est1)"
   ]
  },
  {
   "cell_type": "markdown",
   "metadata": {},
   "source": [
    "Podemos agora ver quais as 8 jogadas possíveis para o jogador 'O':"
   ]
  },
  {
   "cell_type": "code",
   "execution_count": 16,
   "metadata": {},
   "outputs": [
    {
     "name": "stdout",
     "output_type": "stream",
     "text": [
      "[(3, 2), (3, 1), (2, 3), (3, 3), (1, 3), (1, 2), (2, 2), (2, 1)]\n"
     ]
    }
   ],
   "source": [
    "print(j.actions(est1))"
   ]
  },
  {
   "cell_type": "markdown",
   "metadata": {},
   "source": [
    "Imaginando que o 'O' joga para a casa (1,2):"
   ]
  },
  {
   "cell_type": "code",
   "execution_count": 17,
   "metadata": {},
   "outputs": [
    {
     "name": "stdout",
     "output_type": "stream",
     "text": [
      "Tabuleiro actual:\n",
      "X O . \n",
      ". . . \n",
      ". . . \n",
      "Próximo jogador:X\n",
      "\n"
     ]
    }
   ],
   "source": [
    "est2 = j.result(est1,(1,2))\n",
    "j.display(est2)"
   ]
  },
  {
   "cell_type": "markdown",
   "metadata": {},
   "source": [
    "Verifiquemos se o estado resultante é terminal:"
   ]
  },
  {
   "cell_type": "code",
   "execution_count": 18,
   "metadata": {},
   "outputs": [
    {
     "data": {
      "text/plain": [
       "False"
      ]
     },
     "execution_count": 18,
     "metadata": {},
     "output_type": "execute_result"
    }
   ],
   "source": [
    "j.terminal_test(est2)"
   ]
  },
  {
   "cell_type": "markdown",
   "metadata": {},
   "source": [
    "O método ***utility()***, do ponto de vista do jogador 'X' e considerando que a última jogada foi em (2,2) pelo adversário, 'O', terá que devolver 0, porque nenhum deles ganhou:"
   ]
  },
  {
   "cell_type": "code",
   "execution_count": 19,
   "metadata": {},
   "outputs": [
    {
     "data": {
      "text/plain": [
       "0"
      ]
     },
     "execution_count": 19,
     "metadata": {},
     "output_type": "execute_result"
    }
   ],
   "source": [
    "j.utility(est2,'X')"
   ]
  },
  {
   "cell_type": "markdown",
   "metadata": {},
   "source": [
    "#### Exercício 1:\n",
    "\n",
    "Teste o ***terminal_test()*** para um estado em que um dos jogadores ganhou, por exemplo\n",
    "```python\n",
    "O X X \n",
    "X O X \n",
    "O O X\n",
    "```\n",
    "\n",
    "Note que uma das 3 casas com X na coluna da direita terá de ser a última jogada feita e que o próximo jogador a jogar tem de ser o O. Atenção que o teste de 3 em linha é sempre feita com base na última jogada."
   ]
  },
  {
   "cell_type": "code",
   "execution_count": 20,
   "metadata": {},
   "outputs": [
    {
     "name": "stdout",
     "output_type": "stream",
     "text": [
      "Tabuleiro actual:\n",
      "O X X \n",
      "X O X \n",
      "O O . \n",
      "Próximo jogador:X\n",
      "\n",
      "Tabuleiro actual:\n",
      "O X X \n",
      "X O X \n",
      "O O X \n",
      "FIM do Jogo\n"
     ]
    },
    {
     "data": {
      "text/plain": [
       "True"
      ]
     },
     "execution_count": 20,
     "metadata": {},
     "output_type": "execute_result"
    }
   ],
   "source": [
    "### Resolução do exercício 1\n",
    "est = j.result(j.initial, (2,1))\n",
    "est = j.result(est, (1,1))\n",
    "est = j.result(est, (1,2))\n",
    "est = j.result(est, (3,1))\n",
    "est = j.result(est, (1,3))\n",
    "est = j.result(est, (2,2))\n",
    "est = j.result(est, (2,3))\n",
    "est = j.result(est, (3,2))\n",
    "j.display(est)\n",
    "j.terminal_test(est)\n",
    "est = j.result(est, (3,3))\n",
    "j.display(est)\n",
    "j.terminal_test(est)"
   ]
  },
  {
   "cell_type": "markdown",
   "metadata": {},
   "source": [
    "#### Exercício 2:\n",
    "Teste o método ***utility()*** para esse estado, do ponto de vista de 'X' e do ponto de vista de 'O'."
   ]
  },
  {
   "cell_type": "code",
   "execution_count": 21,
   "metadata": {},
   "outputs": [
    {
     "name": "stdout",
     "output_type": "stream",
     "text": [
      "1\n",
      "-1\n"
     ]
    }
   ],
   "source": [
    "# Resolução do exercício 2\n",
    "print(j.utility(est,'X'))\n",
    "print(j.utility(est,'O'))\n"
   ]
  },
  {
   "cell_type": "markdown",
   "metadata": {},
   "source": [
    "### Jogadores ao acaso"
   ]
  },
  {
   "cell_type": "markdown",
   "metadata": {},
   "source": [
    "Podemos definir tipos de jogadores através de métodos que recebem um objecto do tipo ***Game*** e um objecto correspondente ao estado. Esse método deve calcular a jogada que o jogador escolhe fazer quando estiver nesse estado. No fundo é a \"policy\" ou estratégia."
   ]
  },
  {
   "cell_type": "markdown",
   "metadata": {},
   "source": [
    "Notem que em jogos_ia.py há um jogador que escolhe a sua jogada ao acaso.\n",
    "\n",
    "```python\n",
    "def random_player(game, state):\n",
    "    \"\"\"A player that chooses a legal move at random.\"\"\"\n",
    "    return random.choice(game.actions(state))\n",
    "```\n"
   ]
  },
  {
   "cell_type": "markdown",
   "metadata": {},
   "source": [
    "É o método ***jogar()*** que permite executar um jogo entre 2 jogadores. Esse método recebe os dois jogadores (as duas \"policies\") como parâmetros. Este método devolve sempre +1 se foi X que ganhou, -1 de foi O ou 0 no caso de empate."
   ]
  },
  {
   "cell_type": "markdown",
   "metadata": {},
   "source": [
    "Vamos colocar dois jogadores aleatórios a jogar um contra o outro."
   ]
  },
  {
   "cell_type": "code",
   "execution_count": 22,
   "metadata": {},
   "outputs": [
    {
     "name": "stdout",
     "output_type": "stream",
     "text": [
      "Tabuleiro actual:\n",
      ". . . \n",
      ". . . \n",
      ". . . \n",
      "Próximo jogador:X\n",
      "\n",
      "Tabuleiro actual:\n",
      ". . . \n",
      ". . . \n",
      ". . X \n",
      "Próximo jogador:O\n",
      "\n",
      "Tabuleiro actual:\n",
      ". . . \n",
      ". . O \n",
      ". . X \n",
      "Próximo jogador:X\n",
      "\n",
      "Tabuleiro actual:\n",
      "X . . \n",
      ". . O \n",
      ". . X \n",
      "Próximo jogador:O\n",
      "\n",
      "Tabuleiro actual:\n",
      "X . . \n",
      "O . O \n",
      ". . X \n",
      "Próximo jogador:X\n",
      "\n",
      "Tabuleiro actual:\n",
      "X X . \n",
      "O . O \n",
      ". . X \n",
      "Próximo jogador:O\n",
      "\n",
      "Tabuleiro actual:\n",
      "X X . \n",
      "O . O \n",
      "O . X \n",
      "Próximo jogador:X\n",
      "\n",
      "Tabuleiro actual:\n",
      "X X . \n",
      "O X O \n",
      "O . X \n",
      "FIM do Jogo\n"
     ]
    },
    {
     "data": {
      "text/plain": [
       "1"
      ]
     },
     "execution_count": 22,
     "metadata": {},
     "output_type": "execute_result"
    }
   ],
   "source": [
    "j.jogar(random_player,random_player)"
   ]
  },
  {
   "cell_type": "markdown",
   "metadata": {},
   "source": [
    "Podem executar o código mais uma vez para verem um novo jogo. "
   ]
  },
  {
   "cell_type": "markdown",
   "metadata": {},
   "source": [
    "#### Humano a jogar\n",
    "Se quisermos fazer um jogo entre uma pessoa e um jogador aleatório, teremos que usar o ***query_player***."
   ]
  },
  {
   "cell_type": "code",
   "execution_count": 23,
   "metadata": {},
   "outputs": [
    {
     "name": "stdout",
     "output_type": "stream",
     "text": [
      "Tabuleiro actual:\n",
      ". . . \n",
      ". . . \n",
      ". . . \n",
      "Próximo jogador:X\n",
      "\n",
      "available moves: [(3, 2), (3, 1), (1, 1), (2, 3), (3, 3), (1, 3), (1, 2), (2, 2), (2, 1)]\n",
      "\n",
      "Your move? \n"
     ]
    },
    {
     "ename": "SyntaxError",
     "evalue": "unexpected EOF while parsing (<string>, line 0)",
     "output_type": "error",
     "traceback": [
      "Traceback \u001b[1;36m(most recent call last)\u001b[0m:\n",
      "  File \u001b[0;32m\"C:\\Users\\macfi\\anaconda3\\lib\\site-packages\\IPython\\core\\interactiveshell.py\"\u001b[0m, line \u001b[0;32m3343\u001b[0m, in \u001b[0;35mrun_code\u001b[0m\n    exec(code_obj, self.user_global_ns, self.user_ns)\n",
      "  File \u001b[0;32m\"<ipython-input-23-454cf705a441>\"\u001b[0m, line \u001b[0;32m1\u001b[0m, in \u001b[0;35m<module>\u001b[0m\n    j.jogar(query_player,random_player)\n",
      "  File \u001b[0;32m\"C:\\Users\\macfi\\Desktop\\PL5-2\\jogos.py\"\u001b[0m, line \u001b[0;32m281\u001b[0m, in \u001b[0;35mjogar\u001b[0m\n    jogada = jogadores[ind_proximo](self,estado)\n",
      "\u001b[1;36m  File \u001b[1;32m\"C:\\Users\\macfi\\Desktop\\PL5-2\\jogos.py\"\u001b[1;36m, line \u001b[1;32m305\u001b[1;36m, in \u001b[1;35mquery_player\u001b[1;36m\u001b[0m\n\u001b[1;33m    move = eval(move_string)\u001b[0m\n",
      "\u001b[1;36m  File \u001b[1;32m\"<string>\"\u001b[1;36m, line \u001b[1;32munknown\u001b[0m\n\u001b[1;33m    \u001b[0m\n\u001b[1;37m    ^\u001b[0m\n\u001b[1;31mSyntaxError\u001b[0m\u001b[1;31m:\u001b[0m unexpected EOF while parsing\n"
     ]
    }
   ],
   "source": [
    "j.jogar(query_player,random_player)"
   ]
  },
  {
   "cell_type": "markdown",
   "metadata": {},
   "source": [
    "Podem executá-lo até ao fim. Entretanto, apresentamos o código do ***query_player*** a seguir.\n",
    "\n",
    "``` python\n",
    "def query_player(game, state):\n",
    "    \"\"\"Make a move by querying standard input.\"\"\"\n",
    "#    print(\"current state:\")\n",
    "#    game.display(state)\n",
    "    print(\"available moves: {}\".format(game.actions(state)))\n",
    "    print(\"\")\n",
    "    move_string = input('Your move? ')\n",
    "    try:\n",
    "        move = eval(move_string)\n",
    "    except NameError:\n",
    "        move = move_string\n",
    "    return move\n",
    "```"
   ]
  },
  {
   "cell_type": "markdown",
   "metadata": {},
   "source": [
    "### Jogador Minimax\n",
    "\n",
    "Qualquer jogador minimax utiliza o método ***utility()*** da subclasse de Game.\n",
    "\n",
    "O minimax desenrola a árvore do jogo completa para escolher a sua próxima jogada. Avalia os estados do jogo que correspondem a estados terminais, através do método ***utility***.\n",
    "\n",
    "O método ***utility()*** só é invocado quando o jogo chega ao fim, quando satisfaz o método ***terminal_test()***, e no caso do jogo do galo devolve:\n",
    "     1: no caso de vitória\n",
    "     0: no caso de empate\n",
    "    -1: no caso de derrota "
   ]
  },
  {
   "cell_type": "markdown",
   "metadata": {},
   "source": [
    "Notem que o minimax vai até ao fim do jogo, constrói a árvore completa que, no caso do jogo do Galo, para a primeira jogada, tem profundidade 9 e tem uma ramificação que começa em 9 e que diminui com a profundidade."
   ]
  },
  {
   "cell_type": "markdown",
   "metadata": {},
   "source": [
    "Vejemos o código do minimax_player que simplesmente invoca o método ***minimax_decision()***."
   ]
  },
  {
   "cell_type": "markdown",
   "metadata": {},
   "source": [
    "```python\n",
    "\n",
    "def minimax_player(game, state):\n",
    "    \"\"\"A player that chooses the best move using minimax.\"\"\"\n",
    "    return minimax_decision(state,game)\n",
    "\n",
    "\n",
    "\n",
    "def minimax_decision(state, game):\n",
    "    \"\"\"Given a state in a game, calculate the best move by searching\n",
    "    forward all the way to the terminal states. [Figure 5.3]\"\"\"\n",
    "\n",
    "    player = game.to_move(state)\n",
    "\n",
    "    def max_value(state):\n",
    "        if game.terminal_test(state):\n",
    "            return game.utility(state, player)\n",
    "        v = -infinity\n",
    "        for a in game.actions(state):\n",
    "            v = max(v, min_value(game.result(state, a)))\n",
    "        return v\n",
    "\n",
    "    def min_value(state):\n",
    "        if game.terminal_test(state):\n",
    "            return game.utility(state, player)\n",
    "        v = infinity\n",
    "        for a in game.actions(state):\n",
    "            v = min(v, max_value(game.result(state, a)))\n",
    "        return v\n",
    "\n",
    "    # Body of minimax_decision:\n",
    "    return argmax(game.actions(state),\n",
    "                  key=lambda a: min_value(game.result(state, a)))\n",
    "\n",
    "```\n",
    "\n",
    "Este método recebe um estado e um jogo e devolve a acção entre as acções possíveis de fazer a partir do estado, que maximiza o ganho, i.e. a acção que resulta no estado com maior ganho.\n",
    "Neste caso, invoca-se o método argmax com a lista de acções possíveis nesse estado e a função que se pretende maximizar.\n",
    "\n",
    "\n",
    "``` python\n",
    "return argmax(game.actions(state),\n",
    "                  key=lambda a: min_value(game.result(state, a)))\n",
    "```\n",
    "\n",
    "E que função é essa?\n",
    "Os estados sucessores do estado raíz são nós minimizadores e por isso invoca-se a função local ***min_value()*** para todos os estados que resultam das acções, e que devolve a utilidade do ponto de vista de quem minimiza. O valor a minimizar começa muito alto (+infinity)\n",
    "\n",
    "```python\n",
    "\n",
    "def min_value(state):\n",
    "        if game.terminal_test(state):\n",
    "            return game.utility(state, player)\n",
    "        v = infinity\n",
    "        for a in game.actions(state):\n",
    "            v = min(v, max_value(game.result(state, a)))\n",
    "        return v\n",
    "```\n",
    "\n",
    "\n",
    "Notem que essa função, por sua vez, invoca a função ***max_value()***. O valor a maximizar começa muito baixo, o mais baixo possível (-infinity).\n",
    "\n",
    "```python\n",
    "\n",
    "def max_value(state):\n",
    "        if game.terminal_test(state):\n",
    "            return game.utility(state, player)\n",
    "        v = -infinity\n",
    "        for a in game.actions(state):\n",
    "            v = max(v, min_value(game.result(state, a)))\n",
    "        return v\n",
    "```\n",
    "\n",
    "Qualquer das duas funções devolve a utilidade do estado quando este é terminal (fim do jogo)!\n",
    "\n",
    "Estudem as duas funções para compreenderem o código."
   ]
  },
  {
   "cell_type": "markdown",
   "metadata": {},
   "source": [
    "Vamos então verificar o que decide o minimax_search quando lhe passamos um estado de vitória garantida. Há duas casas que garantem a vitória do X: (1,3) e (1,1). Confirmemos que o jogador minimax escolhe uma delas, na verdade a primeira devido à forma como se constrói a lista de acções."
   ]
  },
  {
   "cell_type": "code",
   "execution_count": 24,
   "metadata": {},
   "outputs": [
    {
     "name": "stdout",
     "output_type": "stream",
     "text": [
      "Tabuleiro actual:\n",
      ". X . \n",
      "O X . \n",
      ". O . \n",
      "Próximo jogador:X\n",
      "\n",
      "Joga: (1, 1)\n"
     ]
    }
   ],
   "source": [
    "vitX=EstadoTicTacToe(to_move='X', board={(1,2):'X',(2,2):'X',(3,2):'O',(2,1):'O'}, last_move=(3, 2))\n",
    "j.display(vitX)\n",
    "print(\"Joga:\",minimax_decision(vitX,j))"
   ]
  },
  {
   "cell_type": "markdown",
   "metadata": {},
   "source": [
    "Reparem que a escolha garante a vitória e é sempre a mesma (confirmem correndo mais vezes) porque a ordem das acções é fixa."
   ]
  },
  {
   "cell_type": "markdown",
   "metadata": {},
   "source": [
    "Vamos então fazer um duelo entre o minimax e o random."
   ]
  },
  {
   "cell_type": "code",
   "execution_count": 25,
   "metadata": {},
   "outputs": [
    {
     "name": "stdout",
     "output_type": "stream",
     "text": [
      "Tabuleiro actual:\n",
      ". . . \n",
      ". . . \n",
      ". . . \n",
      "Próximo jogador:X\n",
      "\n",
      "Tabuleiro actual:\n",
      ". . . \n",
      ". . . \n",
      ". X . \n",
      "Próximo jogador:O\n",
      "\n",
      "Tabuleiro actual:\n",
      "O . . \n",
      ". . . \n",
      ". X . \n",
      "Próximo jogador:X\n",
      "\n",
      "Tabuleiro actual:\n",
      "O . . \n",
      ". . . \n",
      "X X . \n",
      "Próximo jogador:O\n",
      "\n",
      "Tabuleiro actual:\n",
      "O O . \n",
      ". . . \n",
      "X X . \n",
      "Próximo jogador:X\n",
      "\n",
      "Tabuleiro actual:\n",
      "O O . \n",
      ". . . \n",
      "X X X \n",
      "FIM do Jogo\n"
     ]
    },
    {
     "data": {
      "text/plain": [
       "1"
      ]
     },
     "execution_count": 25,
     "metadata": {},
     "output_type": "execute_result"
    }
   ],
   "source": [
    "j.jogar(minimax_player,random_player)"
   ]
  },
  {
   "cell_type": "markdown",
   "metadata": {},
   "source": [
    "E vamos agora fazer com que seja o aleatório a abrir."
   ]
  },
  {
   "cell_type": "code",
   "execution_count": 26,
   "metadata": {},
   "outputs": [
    {
     "name": "stdout",
     "output_type": "stream",
     "text": [
      "Tabuleiro actual:\n",
      ". . . \n",
      ". . . \n",
      ". . . \n",
      "Próximo jogador:X\n",
      "\n",
      "Tabuleiro actual:\n",
      ". . . \n",
      ". . . \n",
      "X . . \n",
      "Próximo jogador:O\n",
      "\n",
      "Tabuleiro actual:\n",
      ". . . \n",
      ". O . \n",
      "X . . \n",
      "Próximo jogador:X\n",
      "\n",
      "Tabuleiro actual:\n",
      ". . X \n",
      ". O . \n",
      "X . . \n",
      "Próximo jogador:O\n",
      "\n",
      "Tabuleiro actual:\n",
      ". . X \n",
      ". O . \n",
      "X O . \n",
      "Próximo jogador:X\n",
      "\n",
      "Tabuleiro actual:\n",
      ". . X \n",
      ". O . \n",
      "X O X \n",
      "Próximo jogador:O\n",
      "\n",
      "Tabuleiro actual:\n",
      ". . X \n",
      ". O O \n",
      "X O X \n",
      "Próximo jogador:X\n",
      "\n",
      "Tabuleiro actual:\n",
      "X . X \n",
      ". O O \n",
      "X O X \n",
      "Próximo jogador:O\n",
      "\n",
      "Tabuleiro actual:\n",
      "X O X \n",
      ". O O \n",
      "X O X \n",
      "FIM do Jogo\n"
     ]
    },
    {
     "data": {
      "text/plain": [
       "-1"
      ]
     },
     "execution_count": 26,
     "metadata": {},
     "output_type": "execute_result"
    }
   ],
   "source": [
    "j.jogar(random_player,minimax_player)"
   ]
  },
  {
   "cell_type": "markdown",
   "metadata": {},
   "source": [
    "#### Exercício 3\n",
    "Façam mais do que um jogo entre dois jogadores minimax. O que acontece? Empatam sempre?\n",
    "Além disso, todos os jogos se repetem, jogada após jogada. Altere o ***método minimax_decision()*** de modo a não depender da ordem fixa das acções no estados.\n",
    "Volte a fazer jogos entre dois jogadores minimaxes dos novos. Os jogos não se repetem agora?"
   ]
  },
  {
   "cell_type": "code",
   "execution_count": null,
   "metadata": {},
   "outputs": [],
   "source": [
    "# Resolva aqui o exercício 3\n"
   ]
  },
  {
   "cell_type": "markdown",
   "metadata": {},
   "source": [
    "Faça um ou mais jogos contra o jogador minimax."
   ]
  },
  {
   "cell_type": "code",
   "execution_count": 29,
   "metadata": {},
   "outputs": [
    {
     "name": "stdout",
     "output_type": "stream",
     "text": [
      "Tabuleiro actual:\n",
      ". . . \n",
      ". . . \n",
      ". . . \n",
      "Próximo jogador:X\n",
      "\n",
      "available moves: [(3, 2), (3, 1), (1, 1), (2, 3), (3, 3), (1, 3), (1, 2), (2, 2), (2, 1)]\n",
      "\n",
      "Your move? 2,2\n",
      "Tabuleiro actual:\n",
      ". . . \n",
      ". X . \n",
      ". . . \n",
      "Próximo jogador:O\n",
      "\n",
      "Tabuleiro actual:\n",
      ". . . \n",
      ". X . \n",
      "O . . \n",
      "Próximo jogador:X\n",
      "\n",
      "available moves: [(3, 2), (1, 1), (2, 3), (3, 3), (1, 3), (1, 2), (2, 1)]\n",
      "\n",
      "Your move? 1,1\n",
      "Tabuleiro actual:\n",
      "X . . \n",
      ". X . \n",
      "O . . \n",
      "Próximo jogador:O\n",
      "\n",
      "Tabuleiro actual:\n",
      "X . . \n",
      ". X . \n",
      "O . O \n",
      "Próximo jogador:X\n",
      "\n",
      "available moves: [(3, 2), (2, 3), (1, 3), (1, 2), (2, 1)]\n",
      "\n",
      "Your move? 1,2\n",
      "Tabuleiro actual:\n",
      "X X . \n",
      ". X . \n",
      "O . O \n",
      "Próximo jogador:O\n",
      "\n",
      "Tabuleiro actual:\n",
      "X X . \n",
      ". X . \n",
      "O O O \n",
      "FIM do Jogo\n"
     ]
    },
    {
     "data": {
      "text/plain": [
       "-1"
      ]
     },
     "execution_count": 29,
     "metadata": {},
     "output_type": "execute_result"
    }
   ],
   "source": [
    "j.jogar(query_player,minimax_player)"
   ]
  },
  {
   "cell_type": "markdown",
   "metadata": {},
   "source": [
    "#### Exercício 4\n",
    "Vejam a evolução deste jogo.\n",
    "\n",
    "``` python\n",
    "\n",
    "Tabuleiro actual:\n",
    ". . . \n",
    ". . . \n",
    ". . . \n",
    "Próximo jogador:X\n",
    "\n",
    "available moves: [(1, 2), (3, 2), (1, 3), (3, 3), (3, 1), (2, 1), (2, 3), (2, 2), (1, 1)]\n",
    "\n",
    "Your move? 2,1\n",
    "Tabuleiro actual:\n",
    ". . . \n",
    "X . . \n",
    ". . . \n",
    "Próximo jogador:O\n",
    "\n",
    "Tabuleiro actual:\n",
    ". . . \n",
    "X . . \n",
    "O . . \n",
    "Próximo jogador:X\n",
    "\n",
    "available moves: [(1, 2), (3, 2), (1, 3), (3, 3), (2, 3), (2, 2), (1, 1)]\n",
    "\n",
    "Your move? 1,1\n",
    "Tabuleiro actual:\n",
    "X . . \n",
    "X . . \n",
    "O . . \n",
    "Próximo jogador:O\n",
    "\n",
    "Tabuleiro actual:\n",
    "X . . \n",
    "X . . \n",
    "O O . \n",
    "Próximo jogador:X\n",
    "\n",
    "available moves: [(1, 2), (1, 3), (3, 3), (2, 3), (2, 2)]\n",
    "\n",
    "Your move? (1,3)\n",
    "Tabuleiro actual:\n",
    "X . X \n",
    "X . . \n",
    "O O . \n",
    "Próximo jogador:O\n",
    "\n",
    "Tabuleiro actual:\n",
    "X O X \n",
    "X . . \n",
    "O O . \n",
    "Próximo jogador:X\n",
    "```\n",
    "\n",
    "Notem que jogador O poderia ter ganho mais cedo. Porque será que o minimax escolheu assim? Na verdade, quando ele sabe que pode ganhar de várias maneiras possíveis, todas essas jogadas são as melhores para ele (valem todas 1 para ele) e não dependem de serem mais cedo ou mais tarde, valem todas 1.\n",
    "\n",
    "Refaça a função utilidade de modo a que ganhar para um jogador seja um valor muito alto, mas que é mais alto quanto mais cedo. Replique o jogo contra o minimax cruel e se ele vencer logo que possa é bom sinal.\n",
    "\n",
    "**Dica:**\n",
    "Notem que o número de peças no tabuleiro (board) indica o quão avançado vai o jogo. Assim, uma vitória de quem está a decidir vale sempre o máximo (1) - número-peças-tabuleiro/total-casas-tabuleiro. A derrota dele ou vitória do outro vale sempre -1 + número-peças-tabuleiro/total-casas-tabuleiro. Assumimos que o adversário também queira ganhar mais rapidamente. Não são cruéis os nossos jogadores. "
   ]
  },
  {
   "cell_type": "code",
   "execution_count": null,
   "metadata": {},
   "outputs": [],
   "source": [
    "# Resolva o exercício 4 aqui\n"
   ]
  },
  {
   "cell_type": "markdown",
   "metadata": {},
   "source": [
    "#### Exercício 5\n",
    "Crie uma nova versão do método ***minimax_decision*** que pode chamar de ***minimax_decision_count*** que imprima no ecrã, no final, o número de estados explorados durante o processo de escolha da melhor jogada. Não use a versão shuffle, mas a standard.\n",
    "Crie um jogador ***minimax_player_count()*** que usa essa nova versão do minimax e coloque-o a jogar contra o jogador random ou contra si próprio. "
   ]
  },
  {
   "cell_type": "code",
   "execution_count": null,
   "metadata": {},
   "outputs": [],
   "source": [
    "# resolva aqui o exercício 5\n"
   ]
  },
  {
   "cell_type": "markdown",
   "metadata": {},
   "source": [
    "### Alfabeta\n",
    "\n",
    "Vamos agora olhar para o método alfabeta de acordo com o algoritmo dado na teórica, considerando a versão que explora toda a árvore de jogo e que só é usada em jogos pequenos como o caso do jogo do Galo. Notem que este método não é o mesmo do aimas-python nem a que é usada no livro da disciplina do Stuart & Norvig. Esse foi renomeado para ***alphabeta_search_old()***, no ficheiro jogos.py.\n",
    "\n",
    "\n",
    "``` python\n",
    "def alphabeta_search(state, game):\n",
    "    \"\"\"Search game to determine best action; use alpha-beta pruning.\n",
    "    As in [Figure 5.7], this version searches all the way to the leaves.\"\"\"\n",
    "\n",
    "    player = game.to_move(state)\n",
    "\n",
    "    # Functions used by alphabeta\n",
    "    def max_value(state, alpha, beta):\n",
    "        if game.terminal_test(state):\n",
    "            return game.utility(state, player)\n",
    "        for a in game.actions(state):\n",
    "            alpha = max(alpha, min_value(game.result(state, a), alpha, beta))\n",
    "            if alpha >= beta:\n",
    "                return alpha\n",
    "        return alpha\n",
    "\n",
    "    def min_value(state, alpha, beta):\n",
    "        if game.terminal_test(state):\n",
    "            return game.utility(state, player)\n",
    "        for a in game.actions(state):\n",
    "            beta = min(beta, max_value(game.result(state, a), alpha, beta))\n",
    "            if beta <= alpha:\n",
    "                return beta\n",
    "        return beta\n",
    "\n",
    "    # Body of alphabeta_cutoff_search:\n",
    "    best_score = -infinity\n",
    "    beta = infinity\n",
    "    best_action = None\n",
    "    for a in game.actions(state):\n",
    "        v = min_value(game.result(state, a), best_score, beta)\n",
    "        if v > best_score:\n",
    "            best_score = v\n",
    "            best_action = a\n",
    "    return best_action\n",
    "\n",
    "```"
   ]
  },
  {
   "cell_type": "markdown",
   "metadata": {},
   "source": [
    "Notem que o método simplesmente calcula a acção que maximiza o ganho dos sucessores, obtido através da invocação do método local ***min_value()***, passando-lhe o valor corrente de alfa (o maior ganho dos sucessores até ao momento) e o mesmo beta (+infinity)."
   ]
  },
  {
   "cell_type": "markdown",
   "metadata": {},
   "source": [
    "O método ***max_value*** recebe sempre o alfa e o beta e se o estado é terminal então avalia a sua utilidade senão compara sempre o alfa com o ganho do sucessor (que é minimizador).\n",
    "Sempre que o ganho é maior do que o alfa corrente torna-se o novo alfa. No final, ou porque se esgotam os sucessores ou porque há corte (alfa >= beta) o valor devolvido é o alfa."
   ]
  },
  {
   "cell_type": "markdown",
   "metadata": {},
   "source": [
    "O método ***min_value*** recebe sempre o alfa e o beta e quando o estado é terminal devolve a utilidade, senão compara sempre o beta com o ganho do sucessor (que é maximizador).\n",
    "Sempre que o ganho é menor do que o beta corrente torna-se o novo beta. No final, ou porque se esgotam os sucessores ou porque há corte (alfa >= beta) o valor devolvido é o beta"
   ]
  },
  {
   "cell_type": "markdown",
   "metadata": {},
   "source": [
    "O jogador alphabeta está assim definido:\n",
    "\n",
    "```python\n",
    "def alphabeta_player(game, state):\n",
    "    \"\"\"A player that chooses a legal move at random.\"\"\"\n",
    "return alphabeta_search(state,game)\n",
    "```"
   ]
  },
  {
   "cell_type": "markdown",
   "metadata": {},
   "source": [
    "Vamos executar um jogo entre o alfabeta e o minimax"
   ]
  },
  {
   "cell_type": "code",
   "execution_count": null,
   "metadata": {},
   "outputs": [],
   "source": [
    "j.jogar(alphabeta_player,minimax_player)"
   ]
  },
  {
   "cell_type": "markdown",
   "metadata": {},
   "source": [
    "#### Exercício 6\n",
    "Desenvolva a variação do ***alphabeta_search()*** que calcule o número de estados avaliados durante o processo de procura, chamando-lhe de ***alphabeta_count_search()***.\n",
    "Compare o número de estados explorados durante o processo de decisão da jogada de abertura, por exemplo, entre o ***alphabeta_count_search()*** e o ***minimax_count_search()***."
   ]
  },
  {
   "cell_type": "code",
   "execution_count": null,
   "metadata": {},
   "outputs": [],
   "source": [
    "#### Resolva aqui o Exercício 6\n"
   ]
  },
  {
   "cell_type": "markdown",
   "metadata": {},
   "source": [
    "#### Exercício 7\n",
    "Desenvolva o ***alphabeta_count_plus*** que é a variante alphabeta do exercício anterior em que se calcula o número de ramos cortados para além dos estados avaliados durante o processo de procura. Note que quando se chega ao fim dos sucessores com alfa >= beta não há cortes, porque não há mais filhos, não há nada para cortar."
   ]
  },
  {
   "cell_type": "code",
   "execution_count": null,
   "metadata": {},
   "outputs": [],
   "source": [
    "#### Resolva aqui o Exercício 7\n"
   ]
  },
  {
   "cell_type": "markdown",
   "metadata": {},
   "source": [
    "### O Alfabeta com profundidade limitada\n",
    "\n",
    "Vamos usar a função **alphabeta_cutoff_search_new()** que recebe um estado, um jogo, a profundidade, um teste de corte e uma função de avaliação. Podem ver os pormenores deste algoritmo no ficheiro jogos.py."
   ]
  },
  {
   "cell_type": "markdown",
   "metadata": {},
   "source": [
    "### Funções de avaliação para estados não terminais\n",
    "O ficheiro ***jogos_py*** disponibilza também a função ***alphabeta_cutoff_search_new(state,game,depth,cutoff_test,eval_fn)*** que permite a realização do algoritmo alfabeta com testes de corte e utilizando funções de avaliação para os estados não terminais.\n",
    "Vejamos como definir e utilizar a primeira função de avaliação:\n",
    "<img src=\"pesos_tictactoe.PNG\" width=\"30%\">\n",
    "\n",
    "Aqui as casas do tabuleiros têm pesos: 5 para o centro, 2 para os cantos e 1 para as restantes, refectindo a sua importância. Ao calcular a função de avaliação para um dado jogador, soma-se os valores das casas onde estão as suas peças e subtraem-se os valores das casas das peças do adversário.\n",
    "\n",
    "Para estes 3 tabuleiros:\n",
    "```python\n",
    ". . . \n",
    "X O . \n",
    ". . . \n",
    "```\n",
    "\n",
    "    Para o X vale 1-5 =-4\n",
    "    Para o O vale 5-1 = 4\n",
    "    \n",
    "```python  \n",
    "X X O \n",
    "O O X \n",
    "X O X\n",
    "```\n",
    "    Para o X vale 8-9 = -1\n",
    "    Para o O vale 9-8 = 1\n",
    "\n",
    "```python  \n",
    "O X . \n",
    ". O . \n",
    "X X O\n",
    "```\n",
    "    Para o X vale 4-9 = -5\n",
    "    Para o O vale 9-4 = 5"
   ]
  },
  {
   "cell_type": "code",
   "execution_count": 12,
   "metadata": {},
   "outputs": [
    {
     "name": "stdout",
     "output_type": "stream",
     "text": [
      "7\n",
      "Status:  1.0 %\n",
      "Status:  2.0 %\n",
      "Status:  3.0 %\n",
      "Status:  4.0 %\n",
      "Status:  5.0 %\n",
      "Status:  6.0 %\n",
      "Status:  7.000000000000001 %\n",
      "Status:  8.0 %\n",
      "Status:  9.0 %\n",
      "Status:  10.0 %\n",
      "Status:  11.0 %\n",
      "Status:  12.0 %\n",
      "Status:  13.0 %\n",
      "Status:  14.000000000000002 %\n",
      "Status:  15.0 %\n",
      "Status:  16.0 %\n",
      "Status:  17.0 %\n",
      "Status:  18.0 %\n",
      "Status:  19.0 %\n",
      "Status:  20.0 %\n",
      "Status:  21.0 %\n",
      "Status:  22.0 %\n",
      "Status:  23.0 %\n",
      "Status:  24.0 %\n",
      "Status:  25.0 %\n",
      "Status:  26.0 %\n",
      "Status:  27.0 %\n",
      "Status:  28.000000000000004 %\n",
      "Status:  28.999999999999996 %\n",
      "Status:  30.0 %\n",
      "Status:  31.0 %\n",
      "Status:  32.0 %\n",
      "Status:  33.0 %\n",
      "Status:  34.0 %\n",
      "Status:  35.0 %\n",
      "Status:  36.0 %\n",
      "Status:  37.0 %\n",
      "Status:  38.0 %\n",
      "Status:  39.0 %\n",
      "Status:  40.0 %\n",
      "Status:  41.0 %\n",
      "Status:  42.0 %\n",
      "Status:  43.0 %\n",
      "Status:  44.0 %\n",
      "Status:  45.0 %\n",
      "Status:  46.0 %\n",
      "Status:  47.0 %\n",
      "Status:  48.0 %\n",
      "Status:  49.0 %\n",
      "Status:  50.0 %\n",
      "Status:  51.0 %\n",
      "Status:  52.0 %\n",
      "Status:  53.0 %\n",
      "Status:  54.0 %\n",
      "Status:  55.00000000000001 %\n",
      "Status:  56.00000000000001 %\n",
      "Status:  56.99999999999999 %\n",
      "Status:  57.99999999999999 %\n",
      "Status:  59.0 %\n",
      "Status:  60.0 %\n",
      "Status:  61.0 %\n",
      "Status:  62.0 %\n",
      "Status:  63.0 %\n",
      "Status:  64.0 %\n",
      "Status:  65.0 %\n",
      "Status:  66.0 %\n",
      "Status:  67.0 %\n",
      "Status:  68.0 %\n",
      "Status:  69.0 %\n",
      "Status:  70.0 %\n",
      "Status:  71.0 %\n",
      "Status:  72.0 %\n",
      "Status:  73.0 %\n",
      "Status:  74.0 %\n",
      "Status:  75.0 %\n",
      "Status:  76.0 %\n",
      "Status:  77.0 %\n",
      "Status:  78.0 %\n",
      "Status:  79.0 %\n",
      "Status:  80.0 %\n",
      "Status:  81.0 %\n",
      "Status:  82.0 %\n",
      "Status:  83.0 %\n",
      "Status:  84.0 %\n",
      "Status:  85.0 %\n",
      "Status:  86.0 %\n",
      "Status:  87.0 %\n",
      "Status:  88.0 %\n",
      "Status:  89.0 %\n",
      "Status:  90.0 %\n",
      "Status:  91.0 %\n",
      "Status:  92.0 %\n",
      "Status:  93.0 %\n",
      "Status:  94.0 %\n",
      "Status:  95.0 %\n",
      "Status:  96.0 %\n",
      "Status:  97.0 %\n",
      "Status:  98.0 %\n",
      "Status:  99.0 %\n",
      "Status:  100.0 %\n",
      "----------RESULTS----------\n",
      "Games processed:  100\n",
      "Score  Babujo :  3\n",
      "Score  Basilio :  97\n",
      "Babujo  winrate:  3.0 %\n"
     ]
    },
    {
     "data": {
      "text/plain": [
       "(3, 97)"
      ]
     },
     "execution_count": 12,
     "metadata": {},
     "output_type": "execute_result"
    }
   ],
   "source": [
    "from rastros import *\n",
    "from jogos import *\n",
    "import math\n",
    "    \n",
    "def teste(player1, player2, n):\n",
    "    score_p1 = 0\n",
    "    score_p2 = 0\n",
    "    i = 0\n",
    "    ##########################################\n",
    "    for x in range(n//2):\n",
    "        jogo = jogaRastros11(player1, player2)\n",
    "        if jogo[1] > 0:\n",
    "            score_p1 += 1\n",
    "        else:\n",
    "            score_p2 += 1\n",
    "        i+=1\n",
    "        print(\"Status: \", (i/n)*100, \"%\")\n",
    "        jogo = jogaRastros11(player2, player1)\n",
    "        if jogo[1] > 0:\n",
    "            score_p2 += 1\n",
    "        else:\n",
    "            score_p1 += 1\n",
    "        i+=1\n",
    "        print(\"Status: \", (i/n)*100, \"%\")\n",
    "    print(\"----------RESULTS----------\")\n",
    "    print(\"Games processed: \", n)\n",
    "    print(\"Score \",player1.nome,\": \",score_p1)\n",
    "    print(\"Score \",player2.nome,\": \",score_p2)\n",
    "    print(player1.nome,\" winrate: \", (score_p1/n)*100, \"%\")\n",
    "    return (score_p1, score_p2)\n",
    "\n",
    "def initial_graph(estado) :\n",
    "    \n",
    "    graph = {}\n",
    "    for i in range(1,9):\n",
    "        for j in range(1,9):\n",
    "            graph[(i,j)] = dict.fromkeys([p for p in [(i+a, j+b) for a in [-1,0,1] for b in [-1,0,1]]\n",
    "                            if p not in estado.blacks and p != (i,j) and p in estado.fullboard], 1)\n",
    "    return graph  \n",
    "\n",
    "\n",
    "def Dijkstra(graph,source,target,estado):\n",
    "    \n",
    "    # These are all the nodes which have not been visited yet\n",
    "    unvisited_nodes=graph\n",
    "    # It will store the shortest distance from one node to another\n",
    "    shortest_distance={}\n",
    "    # This will store the Shortest path between source and target node \n",
    "    route=[] \n",
    "    # It will store the predecessors of the nodes\n",
    "    predecessor={}\n",
    "    \n",
    "    # Iterating through all the unvisited nodes\n",
    "    for nodes in unvisited_nodes:\n",
    "        \n",
    "    # Setting the shortest_distance of all the nodes as infinty\n",
    "        shortest_distance[nodes]=math.inf\n",
    "        \n",
    "    # The distance of a point to itself is 0.\n",
    "    shortest_distance[source]=0\n",
    "    \n",
    "    # Running the loop while all the nodes have been visited\n",
    "    while(unvisited_nodes):\n",
    "        \n",
    "        # setting the value of min_node as None\n",
    "        min_Node=None\n",
    "        \n",
    "        # iterating through all the unvisited node\n",
    "        for current_node in unvisited_nodes: \n",
    "            \n",
    "        # For the very first time that loop runs this will be called\n",
    "            if min_Node is None:\n",
    "            \n",
    "            # Setting the value of min_Node as the current node\n",
    "                min_Node=current_node\n",
    "                \n",
    "            elif shortest_distance[min_Node] > shortest_distance[current_node]:\n",
    "                \n",
    "            # I the value of min_Node is less than that of current_node, set \n",
    "            #min_Node as current_node\n",
    "\n",
    "                min_Node=current_node\n",
    "                \n",
    "        # Iterating through the connected nodes of current_node (for \n",
    "        # example, a is connected with b and c having values 10 and 3 \n",
    "        # respectively) and the weight of the edges\n",
    "\n",
    "        for child_node,value in unvisited_nodes[min_Node].items():\n",
    "\n",
    "            # checking if the value of the current_node + value of the edge \n",
    "            # that connects this neighbor node with current_node\n",
    "            # is lesser than the value that distance between current nodes \n",
    "            # and its connections\n",
    "            if value + shortest_distance[min_Node] < shortest_distance[child_node]:  \n",
    "                \n",
    "     # If true  set the new value as the minimum distance of that connection\n",
    "                shortest_distance[child_node] = value + shortest_distance[min_Node]\n",
    "                \n",
    "           # Adding the current node as the predecessor of the child node\n",
    "                predecessor[child_node] = min_Node\n",
    "        \n",
    "        # After the node has been visited (also known as relaxed) remove it from unvisited node\n",
    "        unvisited_nodes.pop(min_Node)\n",
    "        \n",
    "    # Till now the shortest distance between the source node and target node \n",
    "    # has been found. Set the current node as the target node \n",
    "    node = target\n",
    "    \n",
    "    # Starting from the goal node, we will go back to the source node and \n",
    "# see what path we followed to get the smallest distance\n",
    "    while node != source:\n",
    "        \n",
    "        # As it is not necessary that the target node can be reached from # the source node, we must enclose it in a try block\n",
    "        try:\n",
    "            route.insert(0,node)\n",
    "            node = predecessor[node]\n",
    "        except Exception:\n",
    "            #print('\\nPath not reachable')\n",
    "            #estado.display()\n",
    "            break\n",
    "    # Including the ssource in the path\n",
    "    route.insert(0,source)\n",
    "    \n",
    "    # If the node has been visited,\n",
    "    if shortest_distance[target] != math.inf:\n",
    "        return shortest_distance[target]\n",
    "    else:\n",
    "        return 0\n",
    "        # print the shortest distance and the path taken\n",
    "        #print('Shortest distance is ' + str(shortest_distance[target]))\n",
    "        #print('And the path is ' + str(route))\n",
    "    # Remove the below comment if you want to show the the shortest distance \n",
    "    #from source to every other node\n",
    "    # print(shortest_distance)\n",
    "\n",
    "def fun_aval_XX(estado, jogador):\n",
    "    #print(initial_graph(estado))\n",
    "    if estado.terminou == 1:\n",
    "        return 100 if jogador == \"S\" else -100\n",
    "    elif estado.terminou == -1:\n",
    "        return 100 if jogador == \"N\" else -100     \n",
    "    else:\n",
    "        obj = (8, 1) \n",
    "        if jogador == \"N\":\n",
    "            obj = (1, 8)\n",
    "        return 100 - Dijkstra(initial_graph(estado), estado.white, obj, estado)\n",
    "    \n",
    "\n",
    "def POSITIVA_CARALHO(estado, jogador):\n",
    "    if estado.terminou == 1:\n",
    "        return 10 if jogador == \"S\" else -10\n",
    "    elif estado.terminou == -1:\n",
    "        return 10 if jogador == \"N\" else -10     \n",
    "    else:\n",
    "        mul = 1\n",
    "        if estado.white[0] > 4 and estado.white[1] < 4:\n",
    "            mul = 4\n",
    "        elif estado.white[0] < 4 and estado.white[1] > 4:\n",
    "            mul = -4\n",
    "        self_score = estado.white[0] + (estado.white[1] * -1)\n",
    "        \n",
    "        if jogador == \"N\":\n",
    "            self_score *= -1\n",
    "            if mul != 1:\n",
    "                mul *= -1\n",
    "        \n",
    "        return mul * self_score\n",
    "        \n",
    "        \n",
    "print(distancia((1,8),(8,1)))    \n",
    "babujo = Jogador(\"Babujo\",\n",
    "                  lambda game, state:\n",
    "                  alphabeta_cutoff_search_new(state,game,5,eval_fn=POSITIVA_CARALHO))  \n",
    "\n",
    "#jogo1 = jogaRastros11(babujo, basilio)\n",
    "#print(jogo1)\n",
    "#mostraJogo(jogo1[0], verbose = True)\n",
    "\n",
    "teste(babujo, basilio, 1000)\n",
    "#faz_campeonato([babujo, bacoco, obtusoSW, obtusoNE, arlivre, basilio])\n",
    "#dijkstra()"
   ]
  },
  {
   "cell_type": "markdown",
   "metadata": {},
   "source": [
    "No essencial, a função de avaliação poderá ser algo como (recorde como é representada a componente board dum estado):"
   ]
  },
  {
   "cell_type": "code",
   "execution_count": null,
   "metadata": {},
   "outputs": [],
   "source": [
    "def f_aval_1(estado,jogador) :\n",
    "    tabela = { (1,1) : 2 , (1,2) : 1, (1,3) : 2,\n",
    "               (2,1) : 1 , (2,2) : 5, (2,3) : 1,\n",
    "               (3,1) : 2 , (3,2) : 1, (3,3) : 2 }\n",
    "    soma = 0\n",
    "    for p,j in estado.board.items() :\n",
    "        if j == jogador :\n",
    "            soma += tabela[p]\n",
    "        else :\n",
    "            soma -= tabela[p]\n",
    "    return soma"
   ]
  },
  {
   "cell_type": "markdown",
   "metadata": {},
   "source": [
    "De modo a podermos utilizar esta função de avaliação no contexto do método jogar(), temos que definir um jogador que a use:"
   ]
  },
  {
   "cell_type": "code",
   "execution_count": null,
   "metadata": {},
   "outputs": [],
   "source": [
    "def jogador_alfabeta_lim3f1(jogo,estado) :\n",
    "    return alphabeta_cutoff_search_new(estado,jogo,3,eval_fn=f_aval_1)"
   ]
  },
  {
   "cell_type": "markdown",
   "metadata": {},
   "source": [
    "Note que definimos este jogador de modo a que explore a árvore apenas até ao nível de profundidade 3; não ligámos ao teste de corte e passámos aval_1 como sendo a função de avalaição utilizada. (Ignorem o teste de corte!)\n",
    "\n",
    "Experimentemos esta função contra o jogador aleatório:"
   ]
  },
  {
   "cell_type": "code",
   "execution_count": null,
   "metadata": {},
   "outputs": [],
   "source": [
    "j.jogar(random_player,jogador_alfabeta_lim3f1)"
   ]
  },
  {
   "cell_type": "markdown",
   "metadata": {},
   "source": [
    "Mas notem que esta função de avaliação não avalia de modo diferente a vitória, derrota ou empate. Se quisermos (o que é desejável), identificar e valorizar especialmente os estados finais, convém acrescentar algo mais:"
   ]
  },
  {
   "cell_type": "code",
   "execution_count": null,
   "metadata": {},
   "outputs": [],
   "source": [
    "def f_aval_2(estado,jogador) :\n",
    "    tabela = { (1,1) : 2 , (1,2) : 1, (1,3) : 2,\n",
    "               (2,1) : 1 , (2,2) : 5, (2,3) : 1,\n",
    "               (3,1) : 2 , (3,2) : 1, (3,3) : 2 }\n",
    "    len_tab = 9\n",
    "    if estado.k_pieces == 1 : # final e ganhou 'X'\n",
    "        valor = 100 if jogador == 'X' else -100\n",
    "    elif estado.k_pieces == -1 : # final e ganhou 'O'\n",
    "        valor = 100 if jogador == 'O' else -100\n",
    "    elif len(estado.board) == 9 : # final e empate\n",
    "        valor = 0\n",
    "    else:\n",
    "        soma = 0\n",
    "        for p,j in estado.board.items() :\n",
    "            if j == jogador :\n",
    "                soma += tabela[p]\n",
    "            else :\n",
    "                soma -= tabela[p]\n",
    "        valor = soma\n",
    "    return valor\n"
   ]
  },
  {
   "cell_type": "markdown",
   "metadata": {},
   "source": [
    "Criemos o jogador alfabeta a limite 3 que usa esta última função de avaliação estática."
   ]
  },
  {
   "cell_type": "code",
   "execution_count": null,
   "metadata": {},
   "outputs": [],
   "source": [
    "def jogador_alfabeta_lim3f2(jogo,estado) :\n",
    "    return alphabeta_cutoff_search_new(estado,jogo,3,eval_fn=f_aval_2)"
   ]
  },
  {
   "cell_type": "markdown",
   "metadata": {},
   "source": [
    "Vamos pô-lo a jogar contra o aleatório."
   ]
  },
  {
   "cell_type": "code",
   "execution_count": null,
   "metadata": {},
   "outputs": [],
   "source": [
    "j.jogar(random_player,jogador_alfabeta_lim3f2)"
   ]
  },
  {
   "cell_type": "markdown",
   "metadata": {},
   "source": [
    "E agora faremos dois jogos entre o jogador com f_val_1 e o que usa f_val_2"
   ]
  },
  {
   "cell_type": "code",
   "execution_count": null,
   "metadata": {},
   "outputs": [],
   "source": [
    "j.jogar(jogador_alfabeta_lim3f1,jogador_alfabeta_lim3f2)"
   ]
  },
  {
   "cell_type": "code",
   "execution_count": null,
   "metadata": {},
   "outputs": [],
   "source": [
    "j.jogar(jogador_alfabeta_lim3f2,jogador_alfabeta_lim3f1)"
   ]
  },
  {
   "cell_type": "code",
   "execution_count": null,
   "metadata": {},
   "outputs": [],
   "source": []
  }
 ],
 "metadata": {
  "kernelspec": {
   "display_name": "Python 3",
   "language": "python",
   "name": "python3"
  },
  "language_info": {
   "codemirror_mode": {
    "name": "ipython",
    "version": 3
   },
   "file_extension": ".py",
   "mimetype": "text/x-python",
   "name": "python",
   "nbconvert_exporter": "python",
   "pygments_lexer": "ipython3",
   "version": "3.8.3"
  }
 },
 "nbformat": 4,
 "nbformat_minor": 2
}
